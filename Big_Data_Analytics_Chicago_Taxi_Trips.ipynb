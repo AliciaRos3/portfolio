{
 "cells": [
  {
   "cell_type": "markdown",
   "metadata": {},
   "source": [
    "## Overview"
   ]
  },
  {
   "cell_type": "markdown",
   "metadata": {
    "id": "l5jLvvMWmRL9"
   },
   "source": [
    "You are just hired as a Sr. Data Scientist at City of Chicago. You manager, mayor, Mr. Emanuel, asked you to download the dataset from https://www.kaggle.com/chicago/chicago-taxi-rides-2016.. It is a very large dataset containing about 20 million records. This dataset includes taxi trips for 2016, reported to the City of Chicago in its role as a regulatory agency. To protect privacy but allow for aggregate analyses, the Taxi ID is consistent for any given taxi medallion number but does not show the number, Census Tracts are suppressed in some cases, and times are rounded to the nearest 15 minutes. Due to the data reporting process, not all trips are reported but the City believes that most are. See http://digital.cityofchicago.org/index.php/chicago-taxi-data-released (Links to an external site.)Links to an external site. for more information about this dataset and how it was created.\n",
    "\n",
    "The dataset contains the following features in 12 monthly files:\n",
    "+ taxi_id - A unique identifier for the taxi.\n",
    "+ trip_start_timestamp - When the trip started, rounded to the nearest 15 minutes.\n",
    "+ trip_end_timestamp - When the trip ended, rounded to the nearest 15 minutes.\n",
    "+ trip_seconds - Time of the trip in seconds.\n",
    "+ trip_miles - Distance of the trip in miles.\n",
    "+ pickup_census_tract - The Census Tract where the trip began. For privacy, this Census Tract is not shown for some trips.\n",
    "+ dropoff_census_tract - The Census Tract where the trip ended. For privacy, this Census Tract is not shown for some trips.\n",
    "+ pickup_community_area - The Community Area where the trip began.\n",
    "+ dropoff_community_area - The Community Area where the trip ended.\n",
    "+ fare - The fare for the trip.\n",
    "+ tips - The tip for the trip. Cash tips generally will not be recorded.\n",
    "+ tolls - The tolls for the trip.\n",
    "+ extras - Extra charges for the trip.\n",
    "+ trip_total - Total cost of the trip, the total of the fare, tips, tolls, and extras.\n",
    "+ payment_type - Type of payment for the trip.\n",
    "+ company - The id code for the taxi company.\n",
    "+ pickup_latitude - The id code for the latitude of the center of the pickup census tract or the community area if the census tract has been hidden for privacy.\n",
    "+ pickup_longitude - The id code for the center of the pickup census tract or the community area if the census tract has been hidden for privacy.\n",
    "+ pickup_location - The location of the center of the pickup census tract or the community area if the census tract has been hidden for privacy.\n",
    "+ dropoff_latitude - The id code for the center of the dropoff census tract or the community area if the census tract has been hidden for privacy.\n",
    "+ dropoff_longitude - The id code for the center of the dropoff census tract or the community area if the census tract has been hidden for privacy.\n",
    "+ dropoff_location - The location of the center of the dropoff census tract or the community area if the census tract has been hidden for privacy."
   ]
  },
  {
   "cell_type": "markdown",
   "metadata": {},
   "source": [
    "## Objectives"
   ]
  },
  {
   "cell_type": "markdown",
   "metadata": {
    "id": "t-GueUOWlqLA"
   },
   "source": [
    "You are asked to perform the following tasks:\n",
    "\n",
    "1. Read 12 monthly datasets, chicago_taxi_trips_2016_01, chicago_taxi_trips_2016_02, …, chicago_taxi_trips_2016_12 into a Spark Data frame(Hint: you can use df = spark.read.csv('C:\\\\Users\\\\yliu3\\\\Documents\\\\Data Banks\\\\Regression\\\\chicago-taxi-rides-2016\\\\*.csv', header = True, inferSchema = True) to read several csv files and combine it into a single data frame)\n",
    "2. There are some missing values in fare ,trip_seconds,  and trip_miles , please drop the NAs in these three columns only using df = df.na.drop(subset= []) \n",
    "3. You are asked to forecast fare using trip_seconds, trip_miles and Build a linear regression with elastic net Regularizers.\n",
    "4. You are asked to forecast fare using trip_seconds, trip_miles and Build a simple tree model.\n",
    "5. You are asked to forecast fare using trip_seconds, trip_miles and Build a random forest model.\n",
    "6. You are asked to forecast fare using trip_seconds, trip_miles and Build a Gradient-Boosted Tree\n",
    "7. Which model do you recommend to use? Justify your answer.\n",
    "8. Please perform hyper parameter tuning on the model you selected in step 7 (since it is a huge dataset, you may use 1 parameter for each hyperparameters to save time)\n",
    "9. Perform k-means clustering using features trip_seconds, trip_miles, and fare. Please recommend the optimal number of clusters and justify your answer.\n",
    "\n",
    "Please develop your models. You may get help from your classmates. When you debug the models, you may use a smaller dataset, for example , 5,000 rows. After you fix all bugs, then run the whole dataset, for example at 9pm, then you will get some results in the morning,\n",
    "\n",
    "Since it is a very large dataset, it takes about 12 hours on my laptop to run all the models. You need to summarize your model results in a PPT file and present your own research finding on Monday, December 11 or Wednesday, December 13,  2022 in the classroom."
   ]
  },
  {
   "cell_type": "markdown",
   "metadata": {},
   "source": [
    "## Setup\n",
    "**Task 1:** Read 12 monthly datasets, chicago_taxi_trips_2016_01, chicago_taxi_trips_2016_02, …, chicago_taxi_trips_2016_12 into a Spark Data frame"
   ]
  },
  {
   "cell_type": "code",
   "execution_count": 1,
   "metadata": {
    "id": "a-iShe79csOJ"
   },
   "outputs": [],
   "source": [
    "# setup spark session\n",
    "\n",
    "import findspark\n",
    "from pyspark.sql import SparkSession\n",
    "\n",
    "findspark.init()\n",
    "\n",
    "spark = SparkSession\\\n",
    "    .builder\\\n",
    "    .appName(\"FinalProject\")\\\n",
    "    .getOrCreate()"
   ]
  },
  {
   "cell_type": "code",
   "execution_count": 2,
   "metadata": {},
   "outputs": [],
   "source": [
    "# import libraries\n",
    "import os\n",
    "from time import time\n",
    "import pandas as pd\n",
    "import numpy as np\n",
    "import matplotlib.pyplot as plt\n",
    "from pyspark.sql.functions import trim\n",
    "from pyspark.ml.feature import VectorAssembler, StandardScaler\n",
    "from pyspark.ml import Pipeline \n",
    "from pyspark.ml.regression import LinearRegression, DecisionTreeRegressor, RandomForestRegressor, GBTRegressor\n",
    "from pyspark.ml.evaluation import RegressionEvaluator, ClusteringEvaluator\n",
    "from pyspark.ml.tuning import ParamGridBuilder, CrossValidator\n",
    "from pyspark.ml.clustering import KMeans\n",
    "\n",
    "# initialize start time\n",
    "start_time = time()"
   ]
  },
  {
   "cell_type": "code",
   "execution_count": 3,
   "metadata": {},
   "outputs": [
    {
     "name": "stdout",
     "output_type": "stream",
     "text": [
      "time to run: 51.79 seconds\n"
     ]
    }
   ],
   "source": [
    "# bring in the data\n",
    "\n",
    "# time the codes\n",
    "t0 = time()\n",
    "\n",
    "# set up file directory and get file names\n",
    "file_directory = r'C:\\Users\\lucky\\OneDrive - Maryville University\\03 College 23-24 S1\\DSCI-417 Big Data Analytics\\HW and Projects\\Final Project\\chigago_taxi_trips_2016_data'\n",
    "file_names = os.listdir(file_directory)\n",
    "\n",
    "# import first file\n",
    "df = spark.read.csv(os.path.join(file_directory,file_names[0]),header=True,inferSchema=True)\n",
    "# loop over other file names to put all the data in one data frame\n",
    "for file in file_names[1:]:\n",
    "    file_path = os.path.join(file_directory,file)\n",
    "    temp_df = spark.read.csv(file_path, header=True, inferSchema=True)\n",
    "    df = df.union(temp_df)\n",
    "    \n",
    "print(\"time to run:\",round(time()-t0,2),\"seconds\")"
   ]
  },
  {
   "cell_type": "code",
   "execution_count": 4,
   "metadata": {},
   "outputs": [
    {
     "name": "stdout",
     "output_type": "stream",
     "text": [
      "root\n",
      " |-- taxi_id: integer (nullable = true)\n",
      " |-- trip_start_timestamp: string (nullable = true)\n",
      " |-- trip_end_timestamp: string (nullable = true)\n",
      " |-- trip_seconds: integer (nullable = true)\n",
      " |-- trip_miles: double (nullable = true)\n",
      " |-- pickup_census_tract: string (nullable = true)\n",
      " |-- dropoff_census_tract: integer (nullable = true)\n",
      " |-- pickup_community_area: integer (nullable = true)\n",
      " |-- dropoff_community_area: integer (nullable = true)\n",
      " |-- fare: double (nullable = true)\n",
      " |-- tips: double (nullable = true)\n",
      " |-- tolls: double (nullable = true)\n",
      " |-- extras: double (nullable = true)\n",
      " |-- trip_total: double (nullable = true)\n",
      " |-- payment_type: string (nullable = true)\n",
      " |-- company: integer (nullable = true)\n",
      " |-- pickup_latitude: integer (nullable = true)\n",
      " |-- pickup_longitude: integer (nullable = true)\n",
      " |-- dropoff_latitude: integer (nullable = true)\n",
      " |-- dropoff_longitude: integer (nullable = true)\n",
      "\n"
     ]
    }
   ],
   "source": [
    "df.printSchema()"
   ]
  },
  {
   "cell_type": "markdown",
   "metadata": {},
   "source": [
    "## Pre-Processing\n",
    "**Task 2:** There are some missing values in fare ,trip_seconds, and trip_miles, please drop the NAs in these three columns only using df = df.na.drop(subset= [])"
   ]
  },
  {
   "cell_type": "code",
   "execution_count": 5,
   "metadata": {},
   "outputs": [],
   "source": [
    "# drop NAs\n",
    "clean_df = df.na.drop(subset=['fare','trip_seconds','trip_miles'])"
   ]
  },
  {
   "cell_type": "code",
   "execution_count": 6,
   "metadata": {
    "scrolled": true
   },
   "outputs": [
    {
     "name": "stdout",
     "output_type": "stream",
     "text": [
      "+-------+-----------------+------------------+-----------------+\n",
      "|summary|             fare|      trip_seconds|       trip_miles|\n",
      "+-------+-----------------+------------------+-----------------+\n",
      "|  count|         19665487|          19665487|         19665487|\n",
      "|   mean|13.90642006780711| 767.0855416395231|3.401188760796607|\n",
      "| stddev|25.36819333238986|1059.8733008720935|22.70385052601448|\n",
      "|    min|              0.0|                 0|              0.0|\n",
      "|    25%|             6.25|               300|              0.1|\n",
      "|    50%|              8.5|               540|              1.1|\n",
      "|    75%|            14.25|               900|              2.7|\n",
      "|    max|           9999.0|             86399|           3353.1|\n",
      "+-------+-----------------+------------------+-----------------+\n",
      "\n"
     ]
    }
   ],
   "source": [
    "clean_df.select(['fare','trip_seconds','trip_miles']).summary().show()"
   ]
  },
  {
   "cell_type": "markdown",
   "metadata": {},
   "source": [
    "Prepare Data for Modeling"
   ]
  },
  {
   "cell_type": "code",
   "execution_count": 7,
   "metadata": {},
   "outputs": [],
   "source": [
    "# combine trip_seconds and trip_miles into a features column\n",
    "features=['trip_seconds','trip_miles']\n",
    "assembler = VectorAssembler(inputCols=features, outputCol='features') \n",
    "# standardize data\n",
    "scaler = StandardScaler(inputCol='features', outputCol='scaledFeatures', withStd=True, withMean=True)\n",
    "# create pipeline to tranform features\n",
    "pipe = Pipeline(stages=[assembler,scaler])\n",
    "# assemble and standardize features using pipeline\n",
    "clean_df=pipe.fit(clean_df).transform(clean_df)"
   ]
  },
  {
   "cell_type": "code",
   "execution_count": 8,
   "metadata": {},
   "outputs": [
    {
     "name": "stdout",
     "output_type": "stream",
     "text": [
      "original data size: 19669020\n",
      "clean data size: 19665487\n"
     ]
    }
   ],
   "source": [
    "# look at changes in data size\n",
    "print('original data size:',df.count())\n",
    "clean_df_count = clean_df.count()\n",
    "print('clean data size:',clean_df_count)"
   ]
  },
  {
   "cell_type": "code",
   "execution_count": 9,
   "metadata": {},
   "outputs": [],
   "source": [
    "# split into test and train data\n",
    "df_train, df_test = clean_df.randomSplit([0.7,0.3],seed=2003)"
   ]
  },
  {
   "cell_type": "markdown",
   "metadata": {},
   "source": [
    "## Exploratory Data Analysis (EDA)"
   ]
  },
  {
   "cell_type": "code",
   "execution_count": 10,
   "metadata": {},
   "outputs": [
    {
     "name": "stdout",
     "output_type": "stream",
     "text": [
      "sample count: 42658\n"
     ]
    }
   ],
   "source": [
    "# use sample of data for graphs to reduce required time/resources\n",
    "sample_df = clean_df.sample(fraction = 0.0001,seed=2003)\n",
    "sample_df_pd = sample_df.toPandas()\n",
    "print('sample count:',sample_df_pd.size)"
   ]
  },
  {
   "cell_type": "code",
   "execution_count": 11,
   "metadata": {},
   "outputs": [
    {
     "name": "stdout",
     "output_type": "stream",
     "text": [
      "trip_seconds vs. fare correlation: 0.7749849164104475\n"
     ]
    },
    {
     "data": {
      "image/png": "[encoded data removed]",
      "text/plain": [
       "<Figure size 640x480 with 1 Axes>"
      ]
     },
     "metadata": {},
     "output_type": "display_data"
    },
    {
     "name": "stdout",
     "output_type": "stream",
     "text": [
      "trip_miles vs. fare correlation: 0.6289204573187448\n"
     ]
    },
    {
     "data": {
      "image/png": "[encoded data removed]",
      "text/plain": [
       "<Figure size 640x480 with 1 Axes>"
      ]
     },
     "metadata": {},
     "output_type": "display_data"
    },
    {
     "name": "stdout",
     "output_type": "stream",
     "text": [
      "trip_seconds vs. trip_miles correlation: 0.5426771579188657\n"
     ]
    },
    {
     "data": {
      "image/png": "[encoded data removed]",
      "text/plain": [
       "<Figure size 640x480 with 1 Axes>"
      ]
     },
     "metadata": {},
     "output_type": "display_data"
    }
   ],
   "source": [
    "print('trip_seconds vs. fare correlation:',sample_df_pd[['trip_seconds','fare']].corr().fare.iloc[0])\n",
    "plt.title('trip_seconds vs. fare')\n",
    "plt.xlabel('trip_seconds')\n",
    "plt.ylabel('fare')\n",
    "plt.scatter(data=sample_df_pd,x='trip_seconds',y='fare')\n",
    "plt.show()\n",
    "\n",
    "print('trip_miles vs. fare correlation:',sample_df_pd[['trip_miles','fare']].corr().fare.iloc[0])\n",
    "plt.title('trip_miles vs. fare')\n",
    "plt.xlabel('trip_miles')\n",
    "plt.ylabel('fare')\n",
    "plt.scatter(data=sample_df_pd,x='trip_miles',y='fare')\n",
    "plt.show()\n",
    "\n",
    "print('trip_seconds vs. trip_miles correlation:',sample_df_pd[['trip_seconds','trip_miles']].corr().trip_miles.iloc[0])\n",
    "plt.title('trip_seconds vs. trip_miles')\n",
    "plt.xlabel('trip_seconds')\n",
    "plt.ylabel('trip_miles')\n",
    "plt.scatter(data=sample_df_pd,x='trip_seconds',y='trip_miles')\n",
    "plt.show()"
   ]
  },
  {
   "cell_type": "markdown",
   "metadata": {},
   "source": [
    "## Build Predictive Models\n",
    "**Tasks 3-6:** Forcast fare using trip_seconds and trip_miles by building the following models:\n",
    "+ **Task 3:** linear regression with elastic net Regularizers.\n",
    "+ **Task 4:** simple tree model.\n",
    "+ **Task 5:** random forest model.\n",
    "+ **Task 6:** Gradient-Boosted Tree"
   ]
  },
  {
   "cell_type": "markdown",
   "metadata": {},
   "source": [
    "### Linear Regression with Elastic Net Regularizers"
   ]
  },
  {
   "cell_type": "code",
   "execution_count": 12,
   "metadata": {},
   "outputs": [
    {
     "name": "stdout",
     "output_type": "stream",
     "text": [
      "+------------+----------+-----+------------------+\n",
      "|trip_seconds|trip_miles|fare |prediction        |\n",
      "+------------+----------+-----+------------------+\n",
      "|14400       |0.0       |0.01 |107.20708372849504|\n",
      "|360         |0.8       |5.75 |10.911897319117426|\n",
      "|1320        |12.7      |33.75|18.418338302327907|\n",
      "|360         |0.8       |5.75 |10.911897319117426|\n",
      "|600         |2.0       |8.75 |12.651588651518264|\n",
      "+------------+----------+-----+------------------+\n",
      "only showing top 5 rows\n",
      "\n",
      "None\n",
      "time to run: 4.83 minutes\n"
     ]
    }
   ],
   "source": [
    "# time model\n",
    "t0 = time()\n",
    "\n",
    "# build model\n",
    "lr = LinearRegression(labelCol=\"fare\", featuresCol=\"scaledFeatures\", elasticNetParam=0.8)\n",
    "\n",
    "# train model\n",
    "lr_model = lr.fit(df_train)\n",
    "\n",
    "# fit model to test data and print results\n",
    "lr_results = lr_model.transform(df_test)\n",
    "print(lr_results.select(\"trip_seconds\",\"trip_miles\",\"fare\",\"prediction\").show(5,truncate=False))\n",
    "\n",
    "print(\"time to run:\",round((time()-t0)/60,2),\"minutes\")"
   ]
  },
  {
   "cell_type": "markdown",
   "metadata": {},
   "source": [
    "### Decision Tree"
   ]
  },
  {
   "cell_type": "code",
   "execution_count": 13,
   "metadata": {},
   "outputs": [
    {
     "name": "stdout",
     "output_type": "stream",
     "text": [
      "+------------+----------+-----+------------------+\n",
      "|trip_seconds|trip_miles|fare |prediction        |\n",
      "+------------+----------+-----+------------------+\n",
      "|14400       |0.0       |0.01 |47.61376187121686 |\n",
      "|360         |0.8       |5.75 |5.6960573614360355|\n",
      "|1320        |12.7      |33.75|34.958589656729906|\n",
      "|360         |0.8       |5.75 |5.6960573614360355|\n",
      "|600         |2.0       |8.75 |7.997810188784274 |\n",
      "+------------+----------+-----+------------------+\n",
      "only showing top 5 rows\n",
      "\n",
      "None\n",
      "time to run: 8.02 minutes\n"
     ]
    }
   ],
   "source": [
    "# time model\n",
    "t0=time()\n",
    "\n",
    "# build model\n",
    "dt = DecisionTreeRegressor(labelCol=\"fare\", featuresCol=\"scaledFeatures\")\n",
    "\n",
    "# train model\n",
    "dt_model = dt.fit(df_train)\n",
    "\n",
    "# fit model to test data and print results\n",
    "dt_results = dt_model.transform(df_test)\n",
    "print(dt_results.select(\"trip_seconds\",\"trip_miles\",\"fare\",\"prediction\").show(5,truncate=False))\n",
    "\n",
    "print(\"time to run:\",round((time()-t0)/60,2),\"minutes\")"
   ]
  },
  {
   "cell_type": "markdown",
   "metadata": {},
   "source": [
    "### Random Forest"
   ]
  },
  {
   "cell_type": "code",
   "execution_count": 14,
   "metadata": {},
   "outputs": [
    {
     "name": "stdout",
     "output_type": "stream",
     "text": [
      "+------------+----------+-----+------------------+\n",
      "|trip_seconds|trip_miles|fare |prediction        |\n",
      "+------------+----------+-----+------------------+\n",
      "|14400       |0.0       |0.01 |39.444894117387896|\n",
      "|360         |0.8       |5.75 |6.607122166765592 |\n",
      "|1320        |12.7      |33.75|31.80359858003167 |\n",
      "|360         |0.8       |5.75 |6.607122166765592 |\n",
      "|600         |2.0       |8.75 |8.391800228474375 |\n",
      "+------------+----------+-----+------------------+\n",
      "only showing top 5 rows\n",
      "\n",
      "None\n",
      "time to run: 10.34 minutes\n"
     ]
    }
   ],
   "source": [
    "# time model\n",
    "t0=time()\n",
    "\n",
    "# build model\n",
    "rf = RandomForestRegressor(labelCol=\"fare\", featuresCol=\"scaledFeatures\")\n",
    "\n",
    "# train model\n",
    "rf_model = rf.fit(df_train)\n",
    "\n",
    "# fit model to test data and print results\n",
    "rf_results = rf_model.transform(df_test)\n",
    "print(rf_results.select(\"trip_seconds\",\"trip_miles\",\"fare\",\"prediction\").show(5,truncate=False))\n",
    "\n",
    "print(\"time to run:\",round((time()-t0)/60,2),\"minutes\")"
   ]
  },
  {
   "cell_type": "markdown",
   "metadata": {},
   "source": [
    "### Gradient-Boosted Decision Tree"
   ]
  },
  {
   "cell_type": "code",
   "execution_count": 15,
   "metadata": {},
   "outputs": [
    {
     "name": "stdout",
     "output_type": "stream",
     "text": [
      "+------------+----------+-----+------------------+\n",
      "|trip_seconds|trip_miles|fare |prediction        |\n",
      "+------------+----------+-----+------------------+\n",
      "|14400       |0.0       |0.01 |54.891262944766055|\n",
      "|360         |0.8       |5.75 |5.640078233447366 |\n",
      "|1320        |12.7      |33.75|33.001661727883096|\n",
      "|360         |0.8       |5.75 |5.640078233447366 |\n",
      "|600         |2.0       |8.75 |8.977311095212148 |\n",
      "+------------+----------+-----+------------------+\n",
      "only showing top 5 rows\n",
      "\n",
      "time to run: 51.69 minutes\n"
     ]
    }
   ],
   "source": [
    "# time model\n",
    "t0=time()\n",
    "\n",
    "# build model\n",
    "gbt = GBTRegressor(labelCol=\"fare\", featuresCol=\"scaledFeatures\")\n",
    "\n",
    "# train model\n",
    "gbt_model = gbt.fit(df_train)\n",
    "\n",
    "# fit model to test data and print results\n",
    "gbt_results = gbt_model.transform(df_test)\n",
    "gbt_results.select(\"trip_seconds\",\"trip_miles\",\"fare\",\"prediction\").show(5,truncate=False)\n",
    "\n",
    "print(\"time to run:\",round((time()-t0)/60,2),\"minutes\")"
   ]
  },
  {
   "cell_type": "markdown",
   "metadata": {},
   "source": [
    "## Evaluate Models\n",
    "**Task 7:** Which model do you recommend to use? Justify your answer."
   ]
  },
  {
   "cell_type": "code",
   "execution_count": 16,
   "metadata": {},
   "outputs": [],
   "source": [
    "# set up data frame to organize evaluation metrics for the models\n",
    "\n",
    "evaluation_df = pd.DataFrame(index=['r2','rmse'],columns=['LR','DT','RF','GBT'])\n",
    "\n",
    "lr_results.name = 'LR'\n",
    "dt_results.name = 'DT'\n",
    "rf_results.name = 'RF'\n",
    "gbt_results.name = 'GBT'"
   ]
  },
  {
   "cell_type": "code",
   "execution_count": 17,
   "metadata": {},
   "outputs": [
    {
     "name": "stdout",
     "output_type": "stream",
     "text": [
      "time to run: 1115.12 seconds\n",
      "             LR         DT         RF        GBT\n",
      "r2     0.096522   0.204175   0.205057   0.221636\n",
      "rmse  23.916262  22.446228  22.433787  22.198619\n"
     ]
    }
   ],
   "source": [
    "# time codes\n",
    "t0 = time()\n",
    "\n",
    "# calculate r^2 and rmse for each model and add the values to the data frame created above\n",
    "\n",
    "evaluator = RegressionEvaluator(labelCol=\"fare\",predictionCol=\"prediction\")\n",
    "\n",
    "for results in [lr_results,dt_results,rf_results,gbt_results]:\n",
    "    model_r2 = evaluator.evaluate(results,{evaluator.metricName:'r2'})\n",
    "    evaluation_df.at['r2',results.name] = model_r2\n",
    "    model_rmse = evaluator.evaluate(results,{evaluator.metricName:'rmse'})\n",
    "    evaluation_df.at['rmse',results.name] = model_rmse\n",
    "\n",
    "print(\"time to run:\",round(time()-t0,2),\"seconds\")\n",
    "print(evaluation_df)"
   ]
  },
  {
   "cell_type": "markdown",
   "metadata": {},
   "source": [
    "The Gradient-Boosted Tree model is the best with the highest R^2 value and the lowest RMSE value."
   ]
  },
  {
   "cell_type": "markdown",
   "metadata": {},
   "source": [
    "## Model Tuning\n",
    "\n",
    "**Task 8:** Please perform hyper parameter tuning on the model you selected in step 7 (since it is a huge dataset, you may use 1 parameter for each hyperparameters to save time)"
   ]
  },
  {
   "cell_type": "code",
   "execution_count": 18,
   "metadata": {},
   "outputs": [
    {
     "name": "stdout",
     "output_type": "stream",
     "text": [
      "time to run: 97.26 minutes\n"
     ]
    }
   ],
   "source": [
    "# time codes\n",
    "t0 = time()\n",
    "\n",
    "paramGrid = (ParamGridBuilder()\n",
    "             .addGrid(gbt.maxDepth, [2])\n",
    "             .addGrid(gbt.maxBins, [15])\n",
    "             .addGrid(gbt.maxIter, [10])\n",
    "             .build())\n",
    "cv = CrossValidator(estimator=gbt, estimatorParamMaps=paramGrid, evaluator=evaluator, numFolds=5)\n",
    "cvModel = cv.fit(df_train)\n",
    "predictions = cvModel.transform(df_test)\n",
    "\n",
    "print(\"time to run:\",round((time()-t0)/60,2),\"minutes\")"
   ]
  },
  {
   "cell_type": "code",
   "execution_count": 19,
   "metadata": {},
   "outputs": [
    {
     "name": "stdout",
     "output_type": "stream",
     "text": [
      "R^2: 0.1941078823577428\n",
      "RMSE: 22.58775243399151\n"
     ]
    }
   ],
   "source": [
    "print('R^2:',evaluator.evaluate(predictions,{evaluator.metricName:'r2'}))\n",
    "print('RMSE:',evaluator.evaluate(predictions,{evaluator.metricName:'rmse'}))"
   ]
  },
  {
   "cell_type": "markdown",
   "metadata": {},
   "source": [
    "## Build Clustering Model\n",
    "**Task9:** Perform k-means clustering using features trip_seconds, trip_miles, and fare. Please recommend the optimal number of clusters and justify your answer."
   ]
  },
  {
   "cell_type": "code",
   "execution_count": 20,
   "metadata": {},
   "outputs": [],
   "source": [
    "dataset = clean_df.select('trip_seconds','trip_miles','fare')\n",
    "cluster_features=['trip_seconds','trip_miles','fare']\n",
    "assembler = VectorAssembler(inputCols=cluster_features, outputCol='features') \n",
    "dataset = assembler.transform(dataset)"
   ]
  },
  {
   "cell_type": "code",
   "execution_count": 21,
   "metadata": {},
   "outputs": [
    {
     "name": "stdout",
     "output_type": "stream",
     "text": [
      "2 clusters => 0.8141860128531684\n",
      "3 clusters => 0.8438044667016842\n",
      "4 clusters => 0.7664291542345014\n",
      "5 clusters => 0.7384807592737382\n",
      "time to run: 38.76 minutes\n"
     ]
    }
   ],
   "source": [
    "# time codes\n",
    "t0 = time()\n",
    "\n",
    "evaluator = ClusteringEvaluator()\n",
    "Silhvalues = {}\n",
    "\n",
    "for k in range(2,6):\n",
    "    kmeans = KMeans().setK(k).setSeed(2003)\n",
    "    model = kmeans.fit(dataset)\n",
    "    predictions = model.transform(dataset)\n",
    "    silhouette = evaluator.evaluate(predictions)\n",
    "    Silhvalues[k] = silhouette\n",
    "    print(k,'clusters =>',silhouette)\n",
    "    \n",
    "print(\"time to run:\",round((time()-t0)/60,2),\"minutes\")"
   ]
  },
  {
   "cell_type": "code",
   "execution_count": 22,
   "metadata": {},
   "outputs": [
    {
     "data": {
      "text/html": [
       "<div>\n",
       "<style scoped>\n",
       "    .dataframe tbody tr th:only-of-type {\n",
       "        vertical-align: middle;\n",
       "    }\n",
       "\n",
       "    .dataframe tbody tr th {\n",
       "        vertical-align: top;\n",
       "    }\n",
       "\n",
       "    .dataframe thead th {\n",
       "        text-align: right;\n",
       "    }\n",
       "</style>\n",
       "<table border=\"1\" class=\"dataframe\">\n",
       "  <thead>\n",
       "    <tr style=\"text-align: right;\">\n",
       "      <th></th>\n",
       "      <th>clusters</th>\n",
       "      <th>silhouette_value</th>\n",
       "    </tr>\n",
       "  </thead>\n",
       "  <tbody>\n",
       "    <tr>\n",
       "      <th>0</th>\n",
       "      <td>2</td>\n",
       "      <td>0.814186</td>\n",
       "    </tr>\n",
       "    <tr>\n",
       "      <th>1</th>\n",
       "      <td>3</td>\n",
       "      <td>0.843804</td>\n",
       "    </tr>\n",
       "    <tr>\n",
       "      <th>2</th>\n",
       "      <td>4</td>\n",
       "      <td>0.766429</td>\n",
       "    </tr>\n",
       "    <tr>\n",
       "      <th>3</th>\n",
       "      <td>5</td>\n",
       "      <td>0.738481</td>\n",
       "    </tr>\n",
       "  </tbody>\n",
       "</table>\n",
       "</div>"
      ],
      "text/plain": [
       "   clusters  silhouette_value\n",
       "0         2          0.814186\n",
       "1         3          0.843804\n",
       "2         4          0.766429\n",
       "3         5          0.738481"
      ]
     },
     "execution_count": 22,
     "metadata": {},
     "output_type": "execute_result"
    }
   ],
   "source": [
    "kmeans_evaluation = pd.DataFrame(data={'clusters':list(Silhvalues.keys()),'silhouette_value':list(Silhvalues.values())})\n",
    "kmeans_evaluation"
   ]
  },
  {
   "cell_type": "code",
   "execution_count": 23,
   "metadata": {},
   "outputs": [
    {
     "data": {
      "text/plain": [
       "[<matplotlib.lines.Line2D at 0x2af93afb910>]"
      ]
     },
     "execution_count": 23,
     "metadata": {},
     "output_type": "execute_result"
    },
    {
     "data": {
      "image/png": "[encoded data removed]",
      "text/plain": [
       "<Figure size 640x480 with 1 Axes>"
      ]
     },
     "metadata": {},
     "output_type": "display_data"
    }
   ],
   "source": [
    "x = np.array(kmeans_evaluation['clusters'])\n",
    "y = np.array(kmeans_evaluation['silhouette_value'])\n",
    "plt.scatter(x,y)\n",
    "plt.plot(x,y)"
   ]
  },
  {
   "cell_type": "markdown",
   "metadata": {},
   "source": [
    "The optimal number of clusters is 3 because using 3 clusters yields the highest silhouette value."
   ]
  },
  {
   "cell_type": "markdown",
   "metadata": {},
   "source": [
    "## Conclusions"
   ]
  },
  {
   "cell_type": "code",
   "execution_count": 24,
   "metadata": {},
   "outputs": [
    {
     "name": "stdout",
     "output_type": "stream",
     "text": [
      "Total time to run notebook: 3.99 hours\n"
     ]
    }
   ],
   "source": [
    "end_time = time()\n",
    "print('Total time to run notebook:',round((end_time-start_time)/3600,2),'hours')"
   ]
  }
 ],
 "metadata": {
  "colab": {
   "provenance": []
  },
  "kernelspec": {
   "display_name": "Python 3 (ipykernel)",
   "language": "python",
   "name": "python3"
  },
  "language_info": {
   "codemirror_mode": {
    "name": "ipython",
    "version": 3
   },
   "file_extension": ".py",
   "mimetype": "text/x-python",
   "name": "python",
   "nbconvert_exporter": "python",
   "pygments_lexer": "ipython3",
   "version": "3.11.5"
  }
 },
 "nbformat": 4,
 "nbformat_minor": 4
}
